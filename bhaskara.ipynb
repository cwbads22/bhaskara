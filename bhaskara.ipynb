{
 "cells": [
  {
   "cell_type": "markdown",
   "id": "36f05cc1-5f37-46be-9169-51573370032f",
   "metadata": {},
   "source": [
    "<h1><strong>Projeto - Fórmula de Bhaskara"
   ]
  },
  {
   "cell_type": "code",
   "execution_count": 37,
   "id": "30b90abf-1fd3-428a-8c3f-57185263f8ab",
   "metadata": {
    "tags": []
   },
   "outputs": [
    {
     "name": "stdin",
     "output_type": "stream",
     "text": [
      "Insira o valor de a:  2\n",
      "Insira o valor de b:  -6\n",
      "Insira o valor de c:  0\n"
     ]
    },
    {
     "name": "stdout",
     "output_type": "stream",
     "text": [
      "O valor de Δ é 36.0\n",
      "\n",
      "Os valores de x são: x1= 3.0, x2= 0.0\n",
      "As coordenadas do Vértice são: X= 1.5 e Y= -4.5\n"
     ]
    },
    {
     "data": {
      "image/png": "[encoded data removed]",
      "text/plain": [
       "<Figure size 432x288 with 1 Axes>"
      ]
     },
     "metadata": {
      "needs_background": "light"
     },
     "output_type": "display_data"
    }
   ],
   "source": [
    "# Bibliotecas\n",
    "import matplotlib.pyplot as plt\n",
    "import numpy as np\n",
    "\n",
    "# recebe os valores\n",
    "a = float(input('Insira o valor de a: '))\n",
    "b = float(input('Insira o valor de b: '))\n",
    "c = float(input('Insira o valor de c: '))\n",
    "\n",
    "# calcula o delta - Δ\n",
    "delta = (b ** 2) - 4 * a * c\n",
    "print(f'O valor de Δ é {delta}\\n')\n",
    "\n",
    "# Lógica\n",
    "if a == 0:\n",
    "    print(\"O valor de a deve ser diferente de 0!\")\n",
    "elif delta < 0:\n",
    "    print(\"Sem raízes reais\")\n",
    "else:\n",
    "    x1 = (-b + delta ** (1/2)) / (2 * a)\n",
    "    x2 = (-b - delta ** (1/2)) / (2 * a)\n",
    "    \n",
    "    print(\"Os valores de x são: x1= {}, x2= {}\".format(x1, x2))\n",
    "\n",
    "# X e Y\n",
    "x_value = -(b)/(2 * a)\n",
    "y_value = -(delta)/(4 * a)\n",
    "\n",
    "print(\"As coordenadas do Vértice são: X= {} e Y= {}\".format(x_value, y_value))\n",
    "\n",
    "# Construção do gráfico\n",
    "eixo_x = []\n",
    "eixo_y = []\n",
    "zero = []\n",
    "\n",
    "vary = abs(x_value - y_value)\n",
    "if vary < 3:\n",
    "    vary = 3\n",
    "# print(f'A variação é {vary}')\n",
    "\n",
    "for g in np.arange(x1 - vary, x2 + vary, vary / 100):\n",
    "    y = a * (g ** 2 ) + b * (g) + c\n",
    "    eixo_x.append(g)\n",
    "    eixo_y.append(y)\n",
    "    zero.append(0.0)\n",
    "plt.plot(eixo_x,eixo_y,color=\"blue\")\n",
    "plt.plot(eixo_x,zero,color=\"black\")\n",
    "plt.show()"
   ]
  },
  {
   "cell_type": "code",
   "execution_count": null,
   "id": "d5d65307-5481-4116-bd92-3a31befffca5",
   "metadata": {},
   "outputs": [],
   "source": []
  }
 ],
 "metadata": {
  "kernelspec": {
   "display_name": "Python 3 (ipykernel)",
   "language": "python",
   "name": "python3"
  },
  "language_info": {
   "codemirror_mode": {
    "name": "ipython",
    "version": 3
   },
   "file_extension": ".py",
   "mimetype": "text/x-python",
   "name": "python",
   "nbconvert_exporter": "python",
   "pygments_lexer": "ipython3",
   "version": "3.8.13"
  }
 },
 "nbformat": 4,
 "nbformat_minor": 5
}
